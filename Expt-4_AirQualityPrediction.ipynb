{
 "cells": [
  {
   "cell_type": "code",
   "execution_count": 23,
   "metadata": {},
   "outputs": [],
   "source": [
    "import numpy as np # linear algebra\n",
    "import pandas as pd # data processing, CSV file I/O (e.g. pd.read_csv)"
   ]
  },
  {
   "cell_type": "code",
   "execution_count": 24,
   "metadata": {},
   "outputs": [],
   "source": [
    "city_day = pd.read_csv('city_day.csv')"
   ]
  },
  {
   "cell_type": "code",
   "execution_count": 25,
   "metadata": {},
   "outputs": [
    {
     "data": {
      "text/html": [
       "<div>\n",
       "<style scoped>\n",
       "    .dataframe tbody tr th:only-of-type {\n",
       "        vertical-align: middle;\n",
       "    }\n",
       "\n",
       "    .dataframe tbody tr th {\n",
       "        vertical-align: top;\n",
       "    }\n",
       "\n",
       "    .dataframe thead th {\n",
       "        text-align: right;\n",
       "    }\n",
       "</style>\n",
       "<table border=\"1\" class=\"dataframe\">\n",
       "  <thead>\n",
       "    <tr style=\"text-align: right;\">\n",
       "      <th></th>\n",
       "      <th>City</th>\n",
       "      <th>Date</th>\n",
       "      <th>PM2.5</th>\n",
       "      <th>PM10</th>\n",
       "      <th>NO</th>\n",
       "      <th>NO2</th>\n",
       "      <th>NOx</th>\n",
       "      <th>NH3</th>\n",
       "      <th>CO</th>\n",
       "      <th>SO2</th>\n",
       "      <th>O3</th>\n",
       "      <th>Benzene</th>\n",
       "      <th>Toluene</th>\n",
       "      <th>Xylene</th>\n",
       "      <th>AQI</th>\n",
       "      <th>AQI_Bucket</th>\n",
       "    </tr>\n",
       "  </thead>\n",
       "  <tbody>\n",
       "    <tr>\n",
       "      <th>0</th>\n",
       "      <td>Ahmedabad</td>\n",
       "      <td>2015-01-01</td>\n",
       "      <td>NaN</td>\n",
       "      <td>NaN</td>\n",
       "      <td>0.92</td>\n",
       "      <td>18.22</td>\n",
       "      <td>17.15</td>\n",
       "      <td>NaN</td>\n",
       "      <td>0.92</td>\n",
       "      <td>27.64</td>\n",
       "      <td>133.36</td>\n",
       "      <td>0.00</td>\n",
       "      <td>0.02</td>\n",
       "      <td>0.00</td>\n",
       "      <td>NaN</td>\n",
       "      <td>NaN</td>\n",
       "    </tr>\n",
       "    <tr>\n",
       "      <th>1</th>\n",
       "      <td>Ahmedabad</td>\n",
       "      <td>2015-01-02</td>\n",
       "      <td>NaN</td>\n",
       "      <td>NaN</td>\n",
       "      <td>0.97</td>\n",
       "      <td>15.69</td>\n",
       "      <td>16.46</td>\n",
       "      <td>NaN</td>\n",
       "      <td>0.97</td>\n",
       "      <td>24.55</td>\n",
       "      <td>34.06</td>\n",
       "      <td>3.68</td>\n",
       "      <td>5.50</td>\n",
       "      <td>3.77</td>\n",
       "      <td>NaN</td>\n",
       "      <td>NaN</td>\n",
       "    </tr>\n",
       "    <tr>\n",
       "      <th>2</th>\n",
       "      <td>Ahmedabad</td>\n",
       "      <td>2015-01-03</td>\n",
       "      <td>NaN</td>\n",
       "      <td>NaN</td>\n",
       "      <td>17.40</td>\n",
       "      <td>19.30</td>\n",
       "      <td>29.70</td>\n",
       "      <td>NaN</td>\n",
       "      <td>17.40</td>\n",
       "      <td>29.07</td>\n",
       "      <td>30.70</td>\n",
       "      <td>6.80</td>\n",
       "      <td>16.40</td>\n",
       "      <td>2.25</td>\n",
       "      <td>NaN</td>\n",
       "      <td>NaN</td>\n",
       "    </tr>\n",
       "    <tr>\n",
       "      <th>3</th>\n",
       "      <td>Ahmedabad</td>\n",
       "      <td>2015-01-04</td>\n",
       "      <td>NaN</td>\n",
       "      <td>NaN</td>\n",
       "      <td>1.70</td>\n",
       "      <td>18.48</td>\n",
       "      <td>17.97</td>\n",
       "      <td>NaN</td>\n",
       "      <td>1.70</td>\n",
       "      <td>18.59</td>\n",
       "      <td>36.08</td>\n",
       "      <td>4.43</td>\n",
       "      <td>10.14</td>\n",
       "      <td>1.00</td>\n",
       "      <td>NaN</td>\n",
       "      <td>NaN</td>\n",
       "    </tr>\n",
       "    <tr>\n",
       "      <th>4</th>\n",
       "      <td>Ahmedabad</td>\n",
       "      <td>2015-01-05</td>\n",
       "      <td>NaN</td>\n",
       "      <td>NaN</td>\n",
       "      <td>22.10</td>\n",
       "      <td>21.42</td>\n",
       "      <td>37.76</td>\n",
       "      <td>NaN</td>\n",
       "      <td>22.10</td>\n",
       "      <td>39.33</td>\n",
       "      <td>39.31</td>\n",
       "      <td>7.01</td>\n",
       "      <td>18.89</td>\n",
       "      <td>2.78</td>\n",
       "      <td>NaN</td>\n",
       "      <td>NaN</td>\n",
       "    </tr>\n",
       "    <tr>\n",
       "      <th>...</th>\n",
       "      <td>...</td>\n",
       "      <td>...</td>\n",
       "      <td>...</td>\n",
       "      <td>...</td>\n",
       "      <td>...</td>\n",
       "      <td>...</td>\n",
       "      <td>...</td>\n",
       "      <td>...</td>\n",
       "      <td>...</td>\n",
       "      <td>...</td>\n",
       "      <td>...</td>\n",
       "      <td>...</td>\n",
       "      <td>...</td>\n",
       "      <td>...</td>\n",
       "      <td>...</td>\n",
       "      <td>...</td>\n",
       "    </tr>\n",
       "    <tr>\n",
       "      <th>29525</th>\n",
       "      <td>Visakhapatnam</td>\n",
       "      <td>2020-06-26</td>\n",
       "      <td>7.63</td>\n",
       "      <td>32.27</td>\n",
       "      <td>5.91</td>\n",
       "      <td>23.27</td>\n",
       "      <td>17.19</td>\n",
       "      <td>11.15</td>\n",
       "      <td>0.46</td>\n",
       "      <td>6.87</td>\n",
       "      <td>19.90</td>\n",
       "      <td>1.45</td>\n",
       "      <td>5.37</td>\n",
       "      <td>1.45</td>\n",
       "      <td>47.0</td>\n",
       "      <td>Good</td>\n",
       "    </tr>\n",
       "    <tr>\n",
       "      <th>29526</th>\n",
       "      <td>Visakhapatnam</td>\n",
       "      <td>2020-06-27</td>\n",
       "      <td>15.02</td>\n",
       "      <td>50.94</td>\n",
       "      <td>7.68</td>\n",
       "      <td>25.06</td>\n",
       "      <td>19.54</td>\n",
       "      <td>12.47</td>\n",
       "      <td>0.47</td>\n",
       "      <td>8.55</td>\n",
       "      <td>23.30</td>\n",
       "      <td>2.24</td>\n",
       "      <td>12.07</td>\n",
       "      <td>0.73</td>\n",
       "      <td>41.0</td>\n",
       "      <td>Good</td>\n",
       "    </tr>\n",
       "    <tr>\n",
       "      <th>29527</th>\n",
       "      <td>Visakhapatnam</td>\n",
       "      <td>2020-06-28</td>\n",
       "      <td>24.38</td>\n",
       "      <td>74.09</td>\n",
       "      <td>3.42</td>\n",
       "      <td>26.06</td>\n",
       "      <td>16.53</td>\n",
       "      <td>11.99</td>\n",
       "      <td>0.52</td>\n",
       "      <td>12.72</td>\n",
       "      <td>30.14</td>\n",
       "      <td>0.74</td>\n",
       "      <td>2.21</td>\n",
       "      <td>0.38</td>\n",
       "      <td>70.0</td>\n",
       "      <td>Satisfactory</td>\n",
       "    </tr>\n",
       "    <tr>\n",
       "      <th>29528</th>\n",
       "      <td>Visakhapatnam</td>\n",
       "      <td>2020-06-29</td>\n",
       "      <td>22.91</td>\n",
       "      <td>65.73</td>\n",
       "      <td>3.45</td>\n",
       "      <td>29.53</td>\n",
       "      <td>18.33</td>\n",
       "      <td>10.71</td>\n",
       "      <td>0.48</td>\n",
       "      <td>8.42</td>\n",
       "      <td>30.96</td>\n",
       "      <td>0.01</td>\n",
       "      <td>0.01</td>\n",
       "      <td>0.00</td>\n",
       "      <td>68.0</td>\n",
       "      <td>Satisfactory</td>\n",
       "    </tr>\n",
       "    <tr>\n",
       "      <th>29529</th>\n",
       "      <td>Visakhapatnam</td>\n",
       "      <td>2020-06-30</td>\n",
       "      <td>16.64</td>\n",
       "      <td>49.97</td>\n",
       "      <td>4.05</td>\n",
       "      <td>29.26</td>\n",
       "      <td>18.80</td>\n",
       "      <td>10.03</td>\n",
       "      <td>0.52</td>\n",
       "      <td>9.84</td>\n",
       "      <td>28.30</td>\n",
       "      <td>0.00</td>\n",
       "      <td>0.00</td>\n",
       "      <td>0.00</td>\n",
       "      <td>54.0</td>\n",
       "      <td>Satisfactory</td>\n",
       "    </tr>\n",
       "  </tbody>\n",
       "</table>\n",
       "<p>29530 rows × 16 columns</p>\n",
       "</div>"
      ],
      "text/plain": [
       "                City        Date  PM2.5   PM10     NO    NO2    NOx    NH3  \\\n",
       "0          Ahmedabad  2015-01-01    NaN    NaN   0.92  18.22  17.15    NaN   \n",
       "1          Ahmedabad  2015-01-02    NaN    NaN   0.97  15.69  16.46    NaN   \n",
       "2          Ahmedabad  2015-01-03    NaN    NaN  17.40  19.30  29.70    NaN   \n",
       "3          Ahmedabad  2015-01-04    NaN    NaN   1.70  18.48  17.97    NaN   \n",
       "4          Ahmedabad  2015-01-05    NaN    NaN  22.10  21.42  37.76    NaN   \n",
       "...              ...         ...    ...    ...    ...    ...    ...    ...   \n",
       "29525  Visakhapatnam  2020-06-26   7.63  32.27   5.91  23.27  17.19  11.15   \n",
       "29526  Visakhapatnam  2020-06-27  15.02  50.94   7.68  25.06  19.54  12.47   \n",
       "29527  Visakhapatnam  2020-06-28  24.38  74.09   3.42  26.06  16.53  11.99   \n",
       "29528  Visakhapatnam  2020-06-29  22.91  65.73   3.45  29.53  18.33  10.71   \n",
       "29529  Visakhapatnam  2020-06-30  16.64  49.97   4.05  29.26  18.80  10.03   \n",
       "\n",
       "          CO    SO2      O3  Benzene  Toluene  Xylene   AQI    AQI_Bucket  \n",
       "0       0.92  27.64  133.36     0.00     0.02    0.00   NaN           NaN  \n",
       "1       0.97  24.55   34.06     3.68     5.50    3.77   NaN           NaN  \n",
       "2      17.40  29.07   30.70     6.80    16.40    2.25   NaN           NaN  \n",
       "3       1.70  18.59   36.08     4.43    10.14    1.00   NaN           NaN  \n",
       "4      22.10  39.33   39.31     7.01    18.89    2.78   NaN           NaN  \n",
       "...      ...    ...     ...      ...      ...     ...   ...           ...  \n",
       "29525   0.46   6.87   19.90     1.45     5.37    1.45  47.0          Good  \n",
       "29526   0.47   8.55   23.30     2.24    12.07    0.73  41.0          Good  \n",
       "29527   0.52  12.72   30.14     0.74     2.21    0.38  70.0  Satisfactory  \n",
       "29528   0.48   8.42   30.96     0.01     0.01    0.00  68.0  Satisfactory  \n",
       "29529   0.52   9.84   28.30     0.00     0.00    0.00  54.0  Satisfactory  \n",
       "\n",
       "[29530 rows x 16 columns]"
      ]
     },
     "execution_count": 25,
     "metadata": {},
     "output_type": "execute_result"
    }
   ],
   "source": [
    "city_day.head(-1)"
   ]
  },
  {
   "cell_type": "code",
   "execution_count": 26,
   "metadata": {},
   "outputs": [
    {
     "name": "stdout",
     "output_type": "stream",
     "text": [
      "<class 'pandas.core.frame.DataFrame'>\n",
      "RangeIndex: 29531 entries, 0 to 29530\n",
      "Data columns (total 16 columns):\n",
      " #   Column      Non-Null Count  Dtype  \n",
      "---  ------      --------------  -----  \n",
      " 0   City        29531 non-null  object \n",
      " 1   Date        29531 non-null  object \n",
      " 2   PM2.5       24933 non-null  float64\n",
      " 3   PM10        18391 non-null  float64\n",
      " 4   NO          25949 non-null  float64\n",
      " 5   NO2         25946 non-null  float64\n",
      " 6   NOx         25346 non-null  float64\n",
      " 7   NH3         19203 non-null  float64\n",
      " 8   CO          27472 non-null  float64\n",
      " 9   SO2         25677 non-null  float64\n",
      " 10  O3          25509 non-null  float64\n",
      " 11  Benzene     23908 non-null  float64\n",
      " 12  Toluene     21490 non-null  float64\n",
      " 13  Xylene      11422 non-null  float64\n",
      " 14  AQI         24850 non-null  float64\n",
      " 15  AQI_Bucket  24850 non-null  object \n",
      "dtypes: float64(13), object(3)\n",
      "memory usage: 3.6+ MB\n"
     ]
    }
   ],
   "source": [
    "city_day.info()"
   ]
  },
  {
   "cell_type": "code",
   "execution_count": 27,
   "metadata": {},
   "outputs": [],
   "source": [
    "cleaned_data = city_day.dropna()"
   ]
  },
  {
   "cell_type": "code",
   "execution_count": 29,
   "metadata": {},
   "outputs": [
    {
     "name": "stdout",
     "output_type": "stream",
     "text": [
      "<class 'pandas.core.frame.DataFrame'>\n",
      "Int64Index: 6236 entries, 2123 to 29529\n",
      "Data columns (total 16 columns):\n",
      " #   Column      Non-Null Count  Dtype  \n",
      "---  ------      --------------  -----  \n",
      " 0   City        6236 non-null   object \n",
      " 1   Date        6236 non-null   object \n",
      " 2   PM2.5       6236 non-null   float64\n",
      " 3   PM10        6236 non-null   float64\n",
      " 4   NO          6236 non-null   float64\n",
      " 5   NO2         6236 non-null   float64\n",
      " 6   NOx         6236 non-null   float64\n",
      " 7   NH3         6236 non-null   float64\n",
      " 8   CO          6236 non-null   float64\n",
      " 9   SO2         6236 non-null   float64\n",
      " 10  O3          6236 non-null   float64\n",
      " 11  Benzene     6236 non-null   float64\n",
      " 12  Toluene     6236 non-null   float64\n",
      " 13  Xylene      6236 non-null   float64\n",
      " 14  AQI         6236 non-null   float64\n",
      " 15  AQI_Bucket  6236 non-null   object \n",
      "dtypes: float64(13), object(3)\n",
      "memory usage: 828.2+ KB\n"
     ]
    }
   ],
   "source": [
    "cleaned_data.info()"
   ]
  },
  {
   "cell_type": "code",
   "execution_count": 30,
   "metadata": {},
   "outputs": [],
   "source": [
    "no_of_cities = len(cleaned_data.City.unique())"
   ]
  },
  {
   "cell_type": "code",
   "execution_count": 31,
   "metadata": {},
   "outputs": [
    {
     "data": {
      "text/plain": [
       "9"
      ]
     },
     "execution_count": 31,
     "metadata": {},
     "output_type": "execute_result"
    }
   ],
   "source": [
    "no_of_cities"
   ]
  },
  {
   "cell_type": "code",
   "execution_count": 32,
   "metadata": {},
   "outputs": [],
   "source": [
    "aqi_buckets = len(cleaned_data.AQI_Bucket.unique())"
   ]
  },
  {
   "cell_type": "code",
   "execution_count": 33,
   "metadata": {},
   "outputs": [
    {
     "data": {
      "text/plain": [
       "array(['Moderate', 'Poor', 'Very Poor', 'Satisfactory', 'Good', 'Severe'],\n",
       "      dtype=object)"
      ]
     },
     "execution_count": 33,
     "metadata": {},
     "output_type": "execute_result"
    }
   ],
   "source": [
    "cleaned_data.AQI_Bucket.unique()"
   ]
  },
  {
   "cell_type": "code",
   "execution_count": 34,
   "metadata": {},
   "outputs": [],
   "source": [
    "moderate = cleaned_data.AQI[cleaned_data.AQI_Bucket == 'Moderate']\n",
    "poor     = cleaned_data.AQI[cleaned_data.AQI_Bucket == 'Poor']\n",
    "very_poor= cleaned_data.AQI[cleaned_data.AQI_Bucket == 'Very Poor']\n",
    "satisfactory     = cleaned_data.AQI[cleaned_data.AQI_Bucket == 'Satisfactory']\n",
    "good = cleaned_data.AQI[cleaned_data.AQI_Bucket == 'Good']\n",
    "severe     = cleaned_data.AQI[cleaned_data.AQI_Bucket == 'Severe']"
   ]
  },
  {
   "cell_type": "code",
   "execution_count": 35,
   "metadata": {},
   "outputs": [
    {
     "data": {
      "text/plain": [
       "(101.0, 200.0)"
      ]
     },
     "execution_count": 35,
     "metadata": {},
     "output_type": "execute_result"
    }
   ],
   "source": [
    "moderate.min() , moderate.max()"
   ]
  },
  {
   "cell_type": "code",
   "execution_count": 36,
   "metadata": {},
   "outputs": [
    {
     "data": {
      "text/plain": [
       "(23.0, 50.0)"
      ]
     },
     "execution_count": 36,
     "metadata": {},
     "output_type": "execute_result"
    }
   ],
   "source": [
    "good.min() , good.max()"
   ]
  },
  {
   "cell_type": "code",
   "execution_count": 37,
   "metadata": {},
   "outputs": [],
   "source": [
    "gasses = cleaned_data.select_dtypes(include = np.float64)"
   ]
  },
  {
   "cell_type": "code",
   "execution_count": 38,
   "metadata": {},
   "outputs": [
    {
     "data": {
      "text/html": [
       "<div>\n",
       "<style scoped>\n",
       "    .dataframe tbody tr th:only-of-type {\n",
       "        vertical-align: middle;\n",
       "    }\n",
       "\n",
       "    .dataframe tbody tr th {\n",
       "        vertical-align: top;\n",
       "    }\n",
       "\n",
       "    .dataframe thead th {\n",
       "        text-align: right;\n",
       "    }\n",
       "</style>\n",
       "<table border=\"1\" class=\"dataframe\">\n",
       "  <thead>\n",
       "    <tr style=\"text-align: right;\">\n",
       "      <th></th>\n",
       "      <th>PM2.5</th>\n",
       "      <th>PM10</th>\n",
       "      <th>NO</th>\n",
       "      <th>NO2</th>\n",
       "      <th>NOx</th>\n",
       "      <th>NH3</th>\n",
       "      <th>CO</th>\n",
       "      <th>SO2</th>\n",
       "      <th>O3</th>\n",
       "      <th>Benzene</th>\n",
       "      <th>Toluene</th>\n",
       "      <th>Xylene</th>\n",
       "      <th>AQI</th>\n",
       "    </tr>\n",
       "  </thead>\n",
       "  <tbody>\n",
       "    <tr>\n",
       "      <th>2123</th>\n",
       "      <td>81.40</td>\n",
       "      <td>124.50</td>\n",
       "      <td>1.44</td>\n",
       "      <td>20.50</td>\n",
       "      <td>12.08</td>\n",
       "      <td>10.72</td>\n",
       "      <td>0.12</td>\n",
       "      <td>15.24</td>\n",
       "      <td>127.09</td>\n",
       "      <td>0.20</td>\n",
       "      <td>6.50</td>\n",
       "      <td>0.06</td>\n",
       "      <td>184.0</td>\n",
       "    </tr>\n",
       "    <tr>\n",
       "      <th>2124</th>\n",
       "      <td>78.32</td>\n",
       "      <td>129.06</td>\n",
       "      <td>1.26</td>\n",
       "      <td>26.00</td>\n",
       "      <td>14.85</td>\n",
       "      <td>10.28</td>\n",
       "      <td>0.14</td>\n",
       "      <td>26.96</td>\n",
       "      <td>117.44</td>\n",
       "      <td>0.22</td>\n",
       "      <td>7.95</td>\n",
       "      <td>0.08</td>\n",
       "      <td>197.0</td>\n",
       "    </tr>\n",
       "    <tr>\n",
       "      <th>2125</th>\n",
       "      <td>88.76</td>\n",
       "      <td>135.32</td>\n",
       "      <td>6.60</td>\n",
       "      <td>30.85</td>\n",
       "      <td>21.77</td>\n",
       "      <td>12.91</td>\n",
       "      <td>0.11</td>\n",
       "      <td>33.59</td>\n",
       "      <td>111.81</td>\n",
       "      <td>0.29</td>\n",
       "      <td>7.63</td>\n",
       "      <td>0.12</td>\n",
       "      <td>198.0</td>\n",
       "    </tr>\n",
       "    <tr>\n",
       "      <th>2126</th>\n",
       "      <td>64.18</td>\n",
       "      <td>104.09</td>\n",
       "      <td>2.56</td>\n",
       "      <td>28.07</td>\n",
       "      <td>17.01</td>\n",
       "      <td>11.42</td>\n",
       "      <td>0.09</td>\n",
       "      <td>19.00</td>\n",
       "      <td>138.18</td>\n",
       "      <td>0.17</td>\n",
       "      <td>5.02</td>\n",
       "      <td>0.07</td>\n",
       "      <td>188.0</td>\n",
       "    </tr>\n",
       "    <tr>\n",
       "      <th>2127</th>\n",
       "      <td>72.47</td>\n",
       "      <td>114.84</td>\n",
       "      <td>5.23</td>\n",
       "      <td>23.20</td>\n",
       "      <td>16.59</td>\n",
       "      <td>12.25</td>\n",
       "      <td>0.16</td>\n",
       "      <td>10.55</td>\n",
       "      <td>109.74</td>\n",
       "      <td>0.21</td>\n",
       "      <td>4.71</td>\n",
       "      <td>0.08</td>\n",
       "      <td>173.0</td>\n",
       "    </tr>\n",
       "    <tr>\n",
       "      <th>...</th>\n",
       "      <td>...</td>\n",
       "      <td>...</td>\n",
       "      <td>...</td>\n",
       "      <td>...</td>\n",
       "      <td>...</td>\n",
       "      <td>...</td>\n",
       "      <td>...</td>\n",
       "      <td>...</td>\n",
       "      <td>...</td>\n",
       "      <td>...</td>\n",
       "      <td>...</td>\n",
       "      <td>...</td>\n",
       "      <td>...</td>\n",
       "    </tr>\n",
       "    <tr>\n",
       "      <th>29525</th>\n",
       "      <td>7.63</td>\n",
       "      <td>32.27</td>\n",
       "      <td>5.91</td>\n",
       "      <td>23.27</td>\n",
       "      <td>17.19</td>\n",
       "      <td>11.15</td>\n",
       "      <td>0.46</td>\n",
       "      <td>6.87</td>\n",
       "      <td>19.90</td>\n",
       "      <td>1.45</td>\n",
       "      <td>5.37</td>\n",
       "      <td>1.45</td>\n",
       "      <td>47.0</td>\n",
       "    </tr>\n",
       "    <tr>\n",
       "      <th>29526</th>\n",
       "      <td>15.02</td>\n",
       "      <td>50.94</td>\n",
       "      <td>7.68</td>\n",
       "      <td>25.06</td>\n",
       "      <td>19.54</td>\n",
       "      <td>12.47</td>\n",
       "      <td>0.47</td>\n",
       "      <td>8.55</td>\n",
       "      <td>23.30</td>\n",
       "      <td>2.24</td>\n",
       "      <td>12.07</td>\n",
       "      <td>0.73</td>\n",
       "      <td>41.0</td>\n",
       "    </tr>\n",
       "    <tr>\n",
       "      <th>29527</th>\n",
       "      <td>24.38</td>\n",
       "      <td>74.09</td>\n",
       "      <td>3.42</td>\n",
       "      <td>26.06</td>\n",
       "      <td>16.53</td>\n",
       "      <td>11.99</td>\n",
       "      <td>0.52</td>\n",
       "      <td>12.72</td>\n",
       "      <td>30.14</td>\n",
       "      <td>0.74</td>\n",
       "      <td>2.21</td>\n",
       "      <td>0.38</td>\n",
       "      <td>70.0</td>\n",
       "    </tr>\n",
       "    <tr>\n",
       "      <th>29528</th>\n",
       "      <td>22.91</td>\n",
       "      <td>65.73</td>\n",
       "      <td>3.45</td>\n",
       "      <td>29.53</td>\n",
       "      <td>18.33</td>\n",
       "      <td>10.71</td>\n",
       "      <td>0.48</td>\n",
       "      <td>8.42</td>\n",
       "      <td>30.96</td>\n",
       "      <td>0.01</td>\n",
       "      <td>0.01</td>\n",
       "      <td>0.00</td>\n",
       "      <td>68.0</td>\n",
       "    </tr>\n",
       "    <tr>\n",
       "      <th>29529</th>\n",
       "      <td>16.64</td>\n",
       "      <td>49.97</td>\n",
       "      <td>4.05</td>\n",
       "      <td>29.26</td>\n",
       "      <td>18.80</td>\n",
       "      <td>10.03</td>\n",
       "      <td>0.52</td>\n",
       "      <td>9.84</td>\n",
       "      <td>28.30</td>\n",
       "      <td>0.00</td>\n",
       "      <td>0.00</td>\n",
       "      <td>0.00</td>\n",
       "      <td>54.0</td>\n",
       "    </tr>\n",
       "  </tbody>\n",
       "</table>\n",
       "<p>6236 rows × 13 columns</p>\n",
       "</div>"
      ],
      "text/plain": [
       "       PM2.5    PM10    NO    NO2    NOx    NH3    CO    SO2      O3  Benzene  \\\n",
       "2123   81.40  124.50  1.44  20.50  12.08  10.72  0.12  15.24  127.09     0.20   \n",
       "2124   78.32  129.06  1.26  26.00  14.85  10.28  0.14  26.96  117.44     0.22   \n",
       "2125   88.76  135.32  6.60  30.85  21.77  12.91  0.11  33.59  111.81     0.29   \n",
       "2126   64.18  104.09  2.56  28.07  17.01  11.42  0.09  19.00  138.18     0.17   \n",
       "2127   72.47  114.84  5.23  23.20  16.59  12.25  0.16  10.55  109.74     0.21   \n",
       "...      ...     ...   ...    ...    ...    ...   ...    ...     ...      ...   \n",
       "29525   7.63   32.27  5.91  23.27  17.19  11.15  0.46   6.87   19.90     1.45   \n",
       "29526  15.02   50.94  7.68  25.06  19.54  12.47  0.47   8.55   23.30     2.24   \n",
       "29527  24.38   74.09  3.42  26.06  16.53  11.99  0.52  12.72   30.14     0.74   \n",
       "29528  22.91   65.73  3.45  29.53  18.33  10.71  0.48   8.42   30.96     0.01   \n",
       "29529  16.64   49.97  4.05  29.26  18.80  10.03  0.52   9.84   28.30     0.00   \n",
       "\n",
       "       Toluene  Xylene    AQI  \n",
       "2123      6.50    0.06  184.0  \n",
       "2124      7.95    0.08  197.0  \n",
       "2125      7.63    0.12  198.0  \n",
       "2126      5.02    0.07  188.0  \n",
       "2127      4.71    0.08  173.0  \n",
       "...        ...     ...    ...  \n",
       "29525     5.37    1.45   47.0  \n",
       "29526    12.07    0.73   41.0  \n",
       "29527     2.21    0.38   70.0  \n",
       "29528     0.01    0.00   68.0  \n",
       "29529     0.00    0.00   54.0  \n",
       "\n",
       "[6236 rows x 13 columns]"
      ]
     },
     "execution_count": 38,
     "metadata": {},
     "output_type": "execute_result"
    }
   ],
   "source": [
    "gasses"
   ]
  },
  {
   "cell_type": "code",
   "execution_count": 39,
   "metadata": {},
   "outputs": [],
   "source": [
    "corr = gasses.corr().AQI"
   ]
  },
  {
   "cell_type": "code",
   "execution_count": 40,
   "metadata": {},
   "outputs": [
    {
     "data": {
      "text/plain": [
       "PM2.5      0.924028\n",
       "PM10       0.916576\n",
       "NO         0.622031\n",
       "NO2        0.576308\n",
       "NOx        0.658264\n",
       "NH3        0.589695\n",
       "CO         0.494508\n",
       "SO2        0.254686\n",
       "O3         0.334609\n",
       "Benzene    0.207927\n",
       "Toluene    0.466346\n",
       "Xylene     0.073873\n",
       "AQI        1.000000\n",
       "Name: AQI, dtype: float64"
      ]
     },
     "execution_count": 40,
     "metadata": {},
     "output_type": "execute_result"
    }
   ],
   "source": [
    "corr"
   ]
  },
  {
   "cell_type": "code",
   "execution_count": 41,
   "metadata": {},
   "outputs": [
    {
     "data": {
      "text/plain": [
       "Index(['SO2', 'O3', 'Benzene', 'Xylene'], dtype='object')"
      ]
     },
     "execution_count": 41,
     "metadata": {},
     "output_type": "execute_result"
    }
   ],
   "source": [
    "col_to_drop = corr[abs(corr) < 0.45].index\n",
    "\n",
    "col_to_drop"
   ]
  },
  {
   "cell_type": "code",
   "execution_count": 42,
   "metadata": {},
   "outputs": [],
   "source": [
    "gasses = gasses.drop(columns = col_to_drop)"
   ]
  },
  {
   "cell_type": "code",
   "execution_count": 43,
   "metadata": {},
   "outputs": [
    {
     "data": {
      "text/html": [
       "<div>\n",
       "<style scoped>\n",
       "    .dataframe tbody tr th:only-of-type {\n",
       "        vertical-align: middle;\n",
       "    }\n",
       "\n",
       "    .dataframe tbody tr th {\n",
       "        vertical-align: top;\n",
       "    }\n",
       "\n",
       "    .dataframe thead th {\n",
       "        text-align: right;\n",
       "    }\n",
       "</style>\n",
       "<table border=\"1\" class=\"dataframe\">\n",
       "  <thead>\n",
       "    <tr style=\"text-align: right;\">\n",
       "      <th></th>\n",
       "      <th>PM2.5</th>\n",
       "      <th>PM10</th>\n",
       "      <th>NO</th>\n",
       "      <th>NO2</th>\n",
       "      <th>NOx</th>\n",
       "      <th>NH3</th>\n",
       "      <th>CO</th>\n",
       "      <th>Toluene</th>\n",
       "      <th>AQI</th>\n",
       "    </tr>\n",
       "  </thead>\n",
       "  <tbody>\n",
       "    <tr>\n",
       "      <th>PM2.5</th>\n",
       "      <td>1.000000</td>\n",
       "      <td>0.895543</td>\n",
       "      <td>0.604239</td>\n",
       "      <td>0.559055</td>\n",
       "      <td>0.618705</td>\n",
       "      <td>0.582025</td>\n",
       "      <td>0.422486</td>\n",
       "      <td>0.475935</td>\n",
       "      <td>0.924028</td>\n",
       "    </tr>\n",
       "    <tr>\n",
       "      <th>PM10</th>\n",
       "      <td>0.895543</td>\n",
       "      <td>1.000000</td>\n",
       "      <td>0.633340</td>\n",
       "      <td>0.625172</td>\n",
       "      <td>0.672993</td>\n",
       "      <td>0.585555</td>\n",
       "      <td>0.395632</td>\n",
       "      <td>0.518722</td>\n",
       "      <td>0.916576</td>\n",
       "    </tr>\n",
       "    <tr>\n",
       "      <th>NO</th>\n",
       "      <td>0.604239</td>\n",
       "      <td>0.633340</td>\n",
       "      <td>1.000000</td>\n",
       "      <td>0.527426</td>\n",
       "      <td>0.875593</td>\n",
       "      <td>0.432795</td>\n",
       "      <td>0.292911</td>\n",
       "      <td>0.541146</td>\n",
       "      <td>0.622031</td>\n",
       "    </tr>\n",
       "    <tr>\n",
       "      <th>NO2</th>\n",
       "      <td>0.559055</td>\n",
       "      <td>0.625172</td>\n",
       "      <td>0.527426</td>\n",
       "      <td>1.000000</td>\n",
       "      <td>0.692273</td>\n",
       "      <td>0.387388</td>\n",
       "      <td>0.231773</td>\n",
       "      <td>0.499104</td>\n",
       "      <td>0.576308</td>\n",
       "    </tr>\n",
       "    <tr>\n",
       "      <th>NOx</th>\n",
       "      <td>0.618705</td>\n",
       "      <td>0.672993</td>\n",
       "      <td>0.875593</td>\n",
       "      <td>0.692273</td>\n",
       "      <td>1.000000</td>\n",
       "      <td>0.411122</td>\n",
       "      <td>0.336048</td>\n",
       "      <td>0.596449</td>\n",
       "      <td>0.658264</td>\n",
       "    </tr>\n",
       "    <tr>\n",
       "      <th>NH3</th>\n",
       "      <td>0.582025</td>\n",
       "      <td>0.585555</td>\n",
       "      <td>0.432795</td>\n",
       "      <td>0.387388</td>\n",
       "      <td>0.411122</td>\n",
       "      <td>1.000000</td>\n",
       "      <td>0.449340</td>\n",
       "      <td>0.323563</td>\n",
       "      <td>0.589695</td>\n",
       "    </tr>\n",
       "    <tr>\n",
       "      <th>CO</th>\n",
       "      <td>0.422486</td>\n",
       "      <td>0.395632</td>\n",
       "      <td>0.292911</td>\n",
       "      <td>0.231773</td>\n",
       "      <td>0.336048</td>\n",
       "      <td>0.449340</td>\n",
       "      <td>1.000000</td>\n",
       "      <td>0.200851</td>\n",
       "      <td>0.494508</td>\n",
       "    </tr>\n",
       "    <tr>\n",
       "      <th>Toluene</th>\n",
       "      <td>0.475935</td>\n",
       "      <td>0.518722</td>\n",
       "      <td>0.541146</td>\n",
       "      <td>0.499104</td>\n",
       "      <td>0.596449</td>\n",
       "      <td>0.323563</td>\n",
       "      <td>0.200851</td>\n",
       "      <td>1.000000</td>\n",
       "      <td>0.466346</td>\n",
       "    </tr>\n",
       "    <tr>\n",
       "      <th>AQI</th>\n",
       "      <td>0.924028</td>\n",
       "      <td>0.916576</td>\n",
       "      <td>0.622031</td>\n",
       "      <td>0.576308</td>\n",
       "      <td>0.658264</td>\n",
       "      <td>0.589695</td>\n",
       "      <td>0.494508</td>\n",
       "      <td>0.466346</td>\n",
       "      <td>1.000000</td>\n",
       "    </tr>\n",
       "  </tbody>\n",
       "</table>\n",
       "</div>"
      ],
      "text/plain": [
       "            PM2.5      PM10        NO       NO2       NOx       NH3        CO  \\\n",
       "PM2.5    1.000000  0.895543  0.604239  0.559055  0.618705  0.582025  0.422486   \n",
       "PM10     0.895543  1.000000  0.633340  0.625172  0.672993  0.585555  0.395632   \n",
       "NO       0.604239  0.633340  1.000000  0.527426  0.875593  0.432795  0.292911   \n",
       "NO2      0.559055  0.625172  0.527426  1.000000  0.692273  0.387388  0.231773   \n",
       "NOx      0.618705  0.672993  0.875593  0.692273  1.000000  0.411122  0.336048   \n",
       "NH3      0.582025  0.585555  0.432795  0.387388  0.411122  1.000000  0.449340   \n",
       "CO       0.422486  0.395632  0.292911  0.231773  0.336048  0.449340  1.000000   \n",
       "Toluene  0.475935  0.518722  0.541146  0.499104  0.596449  0.323563  0.200851   \n",
       "AQI      0.924028  0.916576  0.622031  0.576308  0.658264  0.589695  0.494508   \n",
       "\n",
       "          Toluene       AQI  \n",
       "PM2.5    0.475935  0.924028  \n",
       "PM10     0.518722  0.916576  \n",
       "NO       0.541146  0.622031  \n",
       "NO2      0.499104  0.576308  \n",
       "NOx      0.596449  0.658264  \n",
       "NH3      0.323563  0.589695  \n",
       "CO       0.200851  0.494508  \n",
       "Toluene  1.000000  0.466346  \n",
       "AQI      0.466346  1.000000  "
      ]
     },
     "execution_count": 43,
     "metadata": {},
     "output_type": "execute_result"
    }
   ],
   "source": [
    "gasses.corr()"
   ]
  },
  {
   "cell_type": "code",
   "execution_count": 44,
   "metadata": {},
   "outputs": [
    {
     "name": "stdout",
     "output_type": "stream",
     "text": [
      "<class 'pandas.core.frame.DataFrame'>\n",
      "Int64Index: 6236 entries, 2123 to 29529\n",
      "Data columns (total 9 columns):\n",
      " #   Column   Non-Null Count  Dtype  \n",
      "---  ------   --------------  -----  \n",
      " 0   PM2.5    6236 non-null   float64\n",
      " 1   PM10     6236 non-null   float64\n",
      " 2   NO       6236 non-null   float64\n",
      " 3   NO2      6236 non-null   float64\n",
      " 4   NOx      6236 non-null   float64\n",
      " 5   NH3      6236 non-null   float64\n",
      " 6   CO       6236 non-null   float64\n",
      " 7   Toluene  6236 non-null   float64\n",
      " 8   AQI      6236 non-null   float64\n",
      "dtypes: float64(9)\n",
      "memory usage: 487.2 KB\n"
     ]
    }
   ],
   "source": [
    "gasses.info()"
   ]
  },
  {
   "cell_type": "code",
   "execution_count": 45,
   "metadata": {},
   "outputs": [],
   "source": [
    "y = gasses.AQI\n",
    "X = gasses.drop(columns = 'AQI')"
   ]
  },
  {
   "cell_type": "code",
   "execution_count": 46,
   "metadata": {},
   "outputs": [
    {
     "name": "stderr",
     "output_type": "stream",
     "text": [
      "c:\\Users\\hp\\AppData\\Local\\Programs\\Python\\Python310\\lib\\site-packages\\scipy\\__init__.py:155: UserWarning: A NumPy version >=1.18.5 and <1.25.0 is required for this version of SciPy (detected version 1.26.0\n",
      "  warnings.warn(f\"A NumPy version >={np_minversion} and <{np_maxversion}\"\n"
     ]
    },
    {
     "name": "stdout",
     "output_type": "stream",
     "text": [
      "\n",
      "Shapes of the sets:\n",
      "X_train shape: (4988, 8)\n",
      "X_test shape: (1248, 8)\n",
      "y_train shape: (4988,)\n",
      "y_test shape: (1248,)\n"
     ]
    }
   ],
   "source": [
    "from sklearn.model_selection import train_test_split\n",
    "\n",
    "X_train, X_test, y_train, y_test = train_test_split(X, y, test_size=0.2, random_state=42)\n",
    "\n",
    "# Display the shapes of the resulting sets\n",
    "print(\"\\nShapes of the sets:\")\n",
    "print(\"X_train shape:\", X_train.shape)\n",
    "print(\"X_test shape:\", X_test.shape)\n",
    "print(\"y_train shape:\", y_train.shape)\n",
    "print(\"y_test shape:\", y_test.shape)"
   ]
  },
  {
   "cell_type": "code",
   "execution_count": 47,
   "metadata": {},
   "outputs": [
    {
     "name": "stdout",
     "output_type": "stream",
     "text": [
      "677.0\n"
     ]
    }
   ],
   "source": [
    "y_max = y.max()\n",
    "y = y/y.max()\n",
    "\n",
    "print(y_max)"
   ]
  },
  {
   "cell_type": "code",
   "execution_count": 48,
   "metadata": {},
   "outputs": [
    {
     "data": {
      "text/plain": [
       "(0.033973412112259974, 1.0)"
      ]
     },
     "execution_count": 48,
     "metadata": {},
     "output_type": "execute_result"
    }
   ],
   "source": [
    "y.min() , y.max()"
   ]
  },
  {
   "cell_type": "code",
   "execution_count": 49,
   "metadata": {},
   "outputs": [
    {
     "name": "stdout",
     "output_type": "stream",
     "text": [
      "PM2.5      639.19\n",
      "PM10       796.88\n",
      "NO         159.22\n",
      "NO2        140.17\n",
      "NOx        224.09\n",
      "NH3        166.70\n",
      "CO          16.23\n",
      "Toluene    103.00\n",
      "dtype: float64\n"
     ]
    }
   ],
   "source": [
    "X_max = X.max()\n",
    "print(X_max)"
   ]
  },
  {
   "cell_type": "code",
   "execution_count": 50,
   "metadata": {},
   "outputs": [],
   "source": [
    "X = X/X_max"
   ]
  },
  {
   "cell_type": "code",
   "execution_count": 52,
   "metadata": {},
   "outputs": [
    {
     "data": {
      "text/plain": [
       "(PM2.5      0.003129\n",
       " PM10       0.009788\n",
       " NO         0.001570\n",
       " NO2        0.001213\n",
       " NOx        0.000759\n",
       " NH3        0.000720\n",
       " CO         0.000000\n",
       " Toluene    0.000000\n",
       " dtype: float64,\n",
       " PM2.5      1.0\n",
       " PM10       1.0\n",
       " NO         1.0\n",
       " NO2        1.0\n",
       " NOx        1.0\n",
       " NH3        1.0\n",
       " CO         1.0\n",
       " Toluene    1.0\n",
       " dtype: float64)"
      ]
     },
     "execution_count": 52,
     "metadata": {},
     "output_type": "execute_result"
    }
   ],
   "source": [
    "X.min() , X.max()"
   ]
  },
  {
   "cell_type": "code",
   "execution_count": 54,
   "metadata": {},
   "outputs": [
    {
     "name": "stdout",
     "output_type": "stream",
     "text": [
      "\n",
      "Model Evaluation:\n",
      "Mean Squared Error: 0.0014963481061406399\n",
      "R-squared: 0.9175718290039866\n"
     ]
    }
   ],
   "source": [
    "import pandas as pd\n",
    "from sklearn.model_selection import train_test_split\n",
    "from sklearn.linear_model import LinearRegression\n",
    "from sklearn.metrics import mean_squared_error, r2_score\n",
    "\n",
    "X_train, X_test, y_train, y_test = train_test_split(X, y, test_size=0.2, random_state=42)\n",
    "\n",
    "# Initialize the Linear Regression model\n",
    "model = LinearRegression()\n",
    "\n",
    "# Fit the model on the training data\n",
    "model.fit(X_train, y_train)\n",
    "\n",
    "# Make predictions on the test data\n",
    "y_pred = model.predict(X_test)\n",
    "\n",
    "# Evaluate the model\n",
    "mse = mean_squared_error(y_test, y_pred)\n",
    "r2 = r2_score(y_test, y_pred)\n",
    "\n",
    "# Display the model's performance\n",
    "print(\"\\nModel Evaluation:\")\n",
    "print(\"Mean Squared Error:\", mse)\n",
    "print(\"R-squared:\", r2)"
   ]
  }
 ],
 "metadata": {
  "kernelspec": {
   "display_name": "Python 3",
   "language": "python",
   "name": "python3"
  },
  "language_info": {
   "codemirror_mode": {
    "name": "ipython",
    "version": 3
   },
   "file_extension": ".py",
   "mimetype": "text/x-python",
   "name": "python",
   "nbconvert_exporter": "python",
   "pygments_lexer": "ipython3",
   "version": "3.10.2"
  }
 },
 "nbformat": 4,
 "nbformat_minor": 2
}
